{
  "nbformat": 4,
  "nbformat_minor": 0,
  "metadata": {
    "colab": {
      "name": "Astropy explorative analysis.ipynb",
      "provenance": [],
      "authorship_tag": "ABX9TyPxDAbb2O6jYkfaVP83plfo",
      "include_colab_link": true
    },
    "kernelspec": {
      "name": "python3",
      "display_name": "Python 3"
    },
    "language_info": {
      "name": "python"
    }
  },
  "cells": [
    {
      "cell_type": "markdown",
      "metadata": {
        "id": "view-in-github",
        "colab_type": "text"
      },
      "source": [
        "<a href=\"https://colab.research.google.com/github/Dasika-Vaishnavi/Open-Astonomy-proposal/blob/main/Astropy_explorative_analysis.ipynb\" target=\"_parent\"><img src=\"https://colab.research.google.com/assets/colab-badge.svg\" alt=\"Open In Colab\"/></a>"
      ]
    },
    {
      "cell_type": "code",
      "source": [
        "!pip install astroquery"
      ],
      "metadata": {
        "colab": {
          "base_uri": "https://localhost:8080/"
        },
        "id": "EA_gvwRyCNBk",
        "outputId": "d51cb05c-ebe3-4fcd-9204-096550fc0c2a"
      },
      "execution_count": null,
      "outputs": [
        {
          "output_type": "stream",
          "name": "stdout",
          "text": [
            "Collecting astroquery\n",
            "  Downloading astroquery-0.4.6-py3-none-any.whl (4.5 MB)\n",
            "\u001b[K     |████████████████████████████████| 4.5 MB 5.0 MB/s \n",
            "\u001b[?25hRequirement already satisfied: requests>=2.4.3 in /usr/local/lib/python3.7/dist-packages (from astroquery) (2.23.0)\n",
            "Requirement already satisfied: numpy>=1.16 in /usr/local/lib/python3.7/dist-packages (from astroquery) (1.21.5)\n",
            "Collecting keyring>=4.0\n",
            "  Downloading keyring-23.5.0-py3-none-any.whl (33 kB)\n",
            "Requirement already satisfied: html5lib>=0.999 in /usr/local/lib/python3.7/dist-packages (from astroquery) (1.0.1)\n",
            "Collecting pyvo>=1.1\n",
            "  Downloading pyvo-1.2.1-py3-none-any.whl (832 kB)\n",
            "\u001b[K     |████████████████████████████████| 832 kB 54.6 MB/s \n",
            "\u001b[?25hRequirement already satisfied: beautifulsoup4>=4.3.2 in /usr/local/lib/python3.7/dist-packages (from astroquery) (4.6.3)\n",
            "Requirement already satisfied: astropy>=4.0 in /usr/local/lib/python3.7/dist-packages (from astroquery) (4.3.1)\n",
            "Requirement already satisfied: pyerfa>=1.7.3 in /usr/local/lib/python3.7/dist-packages (from astropy>=4.0->astroquery) (2.0.0.1)\n",
            "Requirement already satisfied: importlib-metadata in /usr/local/lib/python3.7/dist-packages (from astropy>=4.0->astroquery) (4.11.3)\n",
            "Requirement already satisfied: webencodings in /usr/local/lib/python3.7/dist-packages (from html5lib>=0.999->astroquery) (0.5.1)\n",
            "Requirement already satisfied: six>=1.9 in /usr/local/lib/python3.7/dist-packages (from html5lib>=0.999->astroquery) (1.15.0)\n",
            "Collecting SecretStorage>=3.2\n",
            "  Downloading SecretStorage-3.3.1-py3-none-any.whl (15 kB)\n",
            "Collecting jeepney>=0.4.2\n",
            "  Downloading jeepney-0.8.0-py3-none-any.whl (48 kB)\n",
            "\u001b[K     |████████████████████████████████| 48 kB 4.8 MB/s \n",
            "\u001b[?25hRequirement already satisfied: typing-extensions>=3.6.4 in /usr/local/lib/python3.7/dist-packages (from importlib-metadata->astropy>=4.0->astroquery) (4.1.1)\n",
            "Requirement already satisfied: zipp>=0.5 in /usr/local/lib/python3.7/dist-packages (from importlib-metadata->astropy>=4.0->astroquery) (3.8.0)\n",
            "Requirement already satisfied: urllib3!=1.25.0,!=1.25.1,<1.26,>=1.21.1 in /usr/local/lib/python3.7/dist-packages (from requests>=2.4.3->astroquery) (1.24.3)\n",
            "Requirement already satisfied: chardet<4,>=3.0.2 in /usr/local/lib/python3.7/dist-packages (from requests>=2.4.3->astroquery) (3.0.4)\n",
            "Requirement already satisfied: certifi>=2017.4.17 in /usr/local/lib/python3.7/dist-packages (from requests>=2.4.3->astroquery) (2021.10.8)\n",
            "Requirement already satisfied: idna<3,>=2.5 in /usr/local/lib/python3.7/dist-packages (from requests>=2.4.3->astroquery) (2.10)\n",
            "Collecting cryptography>=2.0\n",
            "  Downloading cryptography-36.0.2-cp36-abi3-manylinux_2_24_x86_64.whl (3.6 MB)\n",
            "\u001b[K     |████████████████████████████████| 3.6 MB 39.7 MB/s \n",
            "\u001b[?25hRequirement already satisfied: cffi>=1.12 in /usr/local/lib/python3.7/dist-packages (from cryptography>=2.0->SecretStorage>=3.2->keyring>=4.0->astroquery) (1.15.0)\n",
            "Requirement already satisfied: pycparser in /usr/local/lib/python3.7/dist-packages (from cffi>=1.12->cryptography>=2.0->SecretStorage>=3.2->keyring>=4.0->astroquery) (2.21)\n",
            "Installing collected packages: jeepney, cryptography, SecretStorage, pyvo, keyring, astroquery\n",
            "Successfully installed SecretStorage-3.3.1 astroquery-0.4.6 cryptography-36.0.2 jeepney-0.8.0 keyring-23.5.0 pyvo-1.2.1\n"
          ]
        }
      ]
    },
    {
      "cell_type": "code",
      "execution_count": null,
      "metadata": {
        "id": "f3IMWpNSCFam"
      },
      "outputs": [],
      "source": [
        "import matplotlib.pyplot as plt\n",
        "%matplotlib inline\n",
        "import numpy as np\n",
        "\n",
        "from astropy import units as u\n",
        "from astropy.coordinates import SkyCoord, Distance\n",
        "from astropy.io import fits\n",
        "from astropy.table import QTable\n",
        "from astropy.utils.data import download_file\n",
        "\n",
        "from astroquery.gaia import Gaia\n",
        "Gaia.ROW_LIMIT = 10000  # Set the row limit for returned data"
      ]
    },
    {
      "cell_type": "code",
      "source": [
        "ngc188_center = SkyCoord(12.11*u.deg, 85.26*u.deg)\n",
        "ngc188_center"
      ],
      "metadata": {
        "colab": {
          "base_uri": "https://localhost:8080/"
        },
        "id": "NjPcLfnICHbw",
        "outputId": "d95d8618-bccd-4ee0-d135-722362e6ad2a"
      },
      "execution_count": null,
      "outputs": [
        {
          "output_type": "execute_result",
          "data": {
            "text/plain": [
              "<SkyCoord (ICRS): (ra, dec) in deg\n",
              "    (12.11, 85.26)>"
            ]
          },
          "metadata": {},
          "execution_count": 4
        }
      ]
    },
    {
      "cell_type": "code",
      "source": [
        "ngc188_center = SkyCoord(12.11*u.deg, 85.26*u.deg, frame='icrs')\n",
        "ngc188_center"
      ],
      "metadata": {
        "colab": {
          "base_uri": "https://localhost:8080/"
        },
        "id": "XhdBAyTbCX8z",
        "outputId": "833991e8-2306-4ecd-fbb6-dcb322b8821b"
      },
      "execution_count": null,
      "outputs": [
        {
          "output_type": "execute_result",
          "data": {
            "text/plain": [
              "<SkyCoord (ICRS): (ra, dec) in deg\n",
              "    (12.11, 85.26)>"
            ]
          },
          "metadata": {},
          "execution_count": 5
        }
      ]
    },
    {
      "cell_type": "code",
      "source": [
        "SkyCoord('00h48m26.4s', '85d15m36s', frame='icrs')"
      ],
      "metadata": {
        "colab": {
          "base_uri": "https://localhost:8080/"
        },
        "id": "rrL_OICTCbd_",
        "outputId": "26702b39-6772-46be-fdd2-fd623aedaf58"
      },
      "execution_count": null,
      "outputs": [
        {
          "output_type": "execute_result",
          "data": {
            "text/plain": [
              "<SkyCoord (ICRS): (ra, dec) in deg\n",
              "    (12.11, 85.26)>"
            ]
          },
          "metadata": {},
          "execution_count": 6
        }
      ]
    },
    {
      "cell_type": "code",
      "source": [
        "SkyCoord('00:48:26.4 85:15:36', unit=(u.hour, u.deg), \n",
        "         frame='icrs')"
      ],
      "metadata": {
        "colab": {
          "base_uri": "https://localhost:8080/"
        },
        "id": "yqsf13VwCdjb",
        "outputId": "727ee5ea-9f34-4e46-e388-5a35df68bebe"
      },
      "execution_count": null,
      "outputs": [
        {
          "output_type": "execute_result",
          "data": {
            "text/plain": [
              "<SkyCoord (ICRS): (ra, dec) in deg\n",
              "    (12.11, 85.26)>"
            ]
          },
          "metadata": {},
          "execution_count": 7
        }
      ]
    },
    {
      "cell_type": "code",
      "source": [
        "ngc188_center = SkyCoord.from_name('NGC 188')\n",
        "ngc188_center"
      ],
      "metadata": {
        "colab": {
          "base_uri": "https://localhost:8080/"
        },
        "id": "dnsEbtMsCffu",
        "outputId": "d4d77513-788f-412b-9cb0-3440393dd1e0"
      },
      "execution_count": null,
      "outputs": [
        {
          "output_type": "execute_result",
          "data": {
            "text/plain": [
              "<SkyCoord (ICRS): (ra, dec) in deg\n",
              "    (11.798, 85.244)>"
            ]
          },
          "metadata": {},
          "execution_count": 8
        }
      ]
    },
    {
      "cell_type": "code",
      "source": [
        "ngc188_center.ra, ngc188_center.dec"
      ],
      "metadata": {
        "colab": {
          "base_uri": "https://localhost:8080/"
        },
        "id": "BOfnia1hChL2",
        "outputId": "14ea01dd-d890-4701-dcca-56cef7dd0dbf"
      },
      "execution_count": null,
      "outputs": [
        {
          "output_type": "execute_result",
          "data": {
            "text/plain": [
              "(<Longitude 11.798 deg>, <Latitude 85.244 deg>)"
            ]
          },
          "metadata": {},
          "execution_count": 9
        }
      ]
    },
    {
      "cell_type": "code",
      "source": [
        "ngc188_center.ra"
      ],
      "metadata": {
        "colab": {
          "base_uri": "https://localhost:8080/",
          "height": 37
        },
        "id": "y-E4v0ILCjh6",
        "outputId": "1a265bc2-7696-41f7-d50d-be9d50f1b36a"
      },
      "execution_count": null,
      "outputs": [
        {
          "output_type": "execute_result",
          "data": {
            "text/plain": [
              "<Longitude 11.798 deg>"
            ],
            "text/latex": "$11^\\circ47{}^\\prime52.8{}^{\\prime\\prime}$"
          },
          "metadata": {},
          "execution_count": 10
        }
      ]
    },
    {
      "cell_type": "code",
      "source": [
        "ngc188_center.dec"
      ],
      "metadata": {
        "colab": {
          "base_uri": "https://localhost:8080/",
          "height": 37
        },
        "id": "4L-BMihDCtVC",
        "outputId": "2bd23909-7862-4ef3-a5d1-1cf82cf380e2"
      },
      "execution_count": null,
      "outputs": [
        {
          "output_type": "execute_result",
          "data": {
            "text/plain": [
              "<Latitude 85.244 deg>"
            ],
            "text/latex": "$85^\\circ14{}^\\prime38.4{}^{\\prime\\prime}$"
          },
          "metadata": {},
          "execution_count": 11
        }
      ]
    },
    {
      "cell_type": "code",
      "source": [
        "type(ngc188_center.ra), type(ngc188_center.dec)"
      ],
      "metadata": {
        "colab": {
          "base_uri": "https://localhost:8080/"
        },
        "id": "Yos5SHhyCvpW",
        "outputId": "6515216a-c81a-47fa-d314-f8247db7e94a"
      },
      "execution_count": null,
      "outputs": [
        {
          "output_type": "execute_result",
          "data": {
            "text/plain": [
              "(astropy.coordinates.angles.Longitude, astropy.coordinates.angles.Latitude)"
            ]
          },
          "metadata": {},
          "execution_count": 12
        }
      ]
    },
    {
      "cell_type": "code",
      "source": [
        "(ngc188_center.ra.to(u.hourangle), \n",
        " ngc188_center.ra.to(u.radian),\n",
        " ngc188_center.ra.to(u.degree))"
      ],
      "metadata": {
        "colab": {
          "base_uri": "https://localhost:8080/"
        },
        "id": "2n6zgG_5Cxxq",
        "outputId": "3cb98599-1b38-4b1b-e82e-9cfa926a38e0"
      },
      "execution_count": null,
      "outputs": [
        {
          "output_type": "execute_result",
          "data": {
            "text/plain": [
              "(<Longitude 0.78653333 hourangle>,\n",
              " <Longitude 0.20591395 rad>,\n",
              " <Longitude 11.798 deg>)"
            ]
          },
          "metadata": {},
          "execution_count": 13
        }
      ]
    },
    {
      "cell_type": "code",
      "source": [
        "(ngc188_center.ra.hour, \n",
        " ngc188_center.ra.radian, \n",
        " ngc188_center.ra.degree)"
      ],
      "metadata": {
        "colab": {
          "base_uri": "https://localhost:8080/"
        },
        "id": "RMk2aCStCzpu",
        "outputId": "413deb99-0708-4a00-e2c5-3a3b77a31b7c"
      },
      "execution_count": null,
      "outputs": [
        {
          "output_type": "execute_result",
          "data": {
            "text/plain": [
              "(0.7865333333333335, 0.205913945150291, 11.798)"
            ]
          },
          "metadata": {},
          "execution_count": 14
        }
      ]
    },
    {
      "cell_type": "code",
      "source": [
        "ngc188_center.ra.to_string(unit=u.hourangle, sep=':', pad=True)"
      ],
      "metadata": {
        "colab": {
          "base_uri": "https://localhost:8080/",
          "height": 35
        },
        "id": "z3tLwJH_C1wF",
        "outputId": "0dfd5c02-2dbe-49ce-97b0-4115bb49aed6"
      },
      "execution_count": null,
      "outputs": [
        {
          "output_type": "execute_result",
          "data": {
            "text/plain": [
              "'00:47:11.52'"
            ],
            "application/vnd.google.colaboratory.intrinsic+json": {
              "type": "string"
            }
          },
          "metadata": {},
          "execution_count": 15
        }
      ]
    },
    {
      "cell_type": "markdown",
      "source": [
        "# Querying the Gaia Archive to Retrieve Coordinates of Stars in NGC 188"
      ],
      "metadata": {
        "id": "elKjC4PvC5dh"
      }
    },
    {
      "cell_type": "code",
      "source": [
        "job = Gaia.cone_search_async(ngc188_center, radius=0.5*u.deg)\n",
        "ngc188_table = job.get_results()\n",
        "\n",
        "# only keep stars brighter than G=19 magnitude\n",
        "ngc188_table = ngc188_table[ngc188_table['phot_g_mean_mag'] < 19*u.mag]"
      ],
      "metadata": {
        "colab": {
          "base_uri": "https://localhost:8080/"
        },
        "id": "Xp1pXBV6C33G",
        "outputId": "9cbc282f-59b4-4d5a-861e-5e9ce8534f06"
      },
      "execution_count": null,
      "outputs": [
        {
          "output_type": "stream",
          "name": "stdout",
          "text": [
            "INFO: Query finished. [astroquery.utils.tap.core]\n"
          ]
        }
      ]
    },
    {
      "cell_type": "code",
      "source": [
        "cols = [\n",
        "    'source_id',\n",
        "    'ra',\n",
        "    'dec',\n",
        "    'parallax',\n",
        "    'parallax_error',\n",
        "    'pmra',\n",
        "    'pmdec',\n",
        "    'radial_velocity',\n",
        "    'phot_g_mean_mag',\n",
        "    'phot_bp_mean_mag',\n",
        "    'phot_rp_mean_mag'\n",
        "]\n",
        "ngc188_table[cols].write('gaia_results.fits', overwrite=True)"
      ],
      "metadata": {
        "id": "NyZVf7kaC-n-"
      },
      "execution_count": null,
      "outputs": []
    },
    {
      "cell_type": "code",
      "source": [
        "ngc188_table = QTable.read('gaia_results.fits')"
      ],
      "metadata": {
        "colab": {
          "base_uri": "https://localhost:8080/"
        },
        "id": "LhcFoyIzDHI6",
        "outputId": "c7e96836-3d28-4cea-feab-538ffc75a9f0"
      },
      "execution_count": null,
      "outputs": [
        {
          "output_type": "stream",
          "name": "stderr",
          "text": [
            "WARNING: dropping mask in Quantity column 'parallax': masked Quantity not supported [astropy.table.table]\n",
            "WARNING: dropping mask in Quantity column 'parallax_error': masked Quantity not supported [astropy.table.table]\n",
            "WARNING: dropping mask in Quantity column 'pmra': masked Quantity not supported [astropy.table.table]\n",
            "WARNING: dropping mask in Quantity column 'pmdec': masked Quantity not supported [astropy.table.table]\n",
            "WARNING: dropping mask in Quantity column 'radial_velocity': masked Quantity not supported [astropy.table.table]\n",
            "WARNING: dropping mask in Quantity column 'phot_bp_mean_mag': masked Quantity not supported [astropy.table.table]\n",
            "WARNING: dropping mask in Quantity column 'phot_rp_mean_mag': masked Quantity not supported [astropy.table.table]\n"
          ]
        }
      ]
    },
    {
      "cell_type": "code",
      "source": [
        "len(ngc188_table)"
      ],
      "metadata": {
        "colab": {
          "base_uri": "https://localhost:8080/"
        },
        "id": "n2MvXI7GDM3P",
        "outputId": "98f3bc06-7ee8-4fe2-bd0c-d2c17d6f8ce4"
      },
      "execution_count": null,
      "outputs": [
        {
          "output_type": "execute_result",
          "data": {
            "text/plain": [
              "4954"
            ]
          },
          "metadata": {},
          "execution_count": 19
        }
      ]
    },
    {
      "cell_type": "code",
      "source": [
        "ngc188_table['ra']"
      ],
      "metadata": {
        "colab": {
          "base_uri": "https://localhost:8080/",
          "height": 37
        },
        "id": "g1G2TydyDPWS",
        "outputId": "08215060-f714-49b0-b852-a518ebd345f2"
      },
      "execution_count": null,
      "outputs": [
        {
          "output_type": "execute_result",
          "data": {
            "text/plain": [
              "<Quantity [11.83026182, 11.77583526, 11.78143428, ...,  9.00733176,\n",
              "            6.28374403, 16.03700724] deg>"
            ],
            "text/latex": "$[11.830262,~11.775835,~11.781434,~\\dots,~9.0073318,~6.283744,~16.037007] \\; \\mathrm{{}^{\\circ}}$"
          },
          "metadata": {},
          "execution_count": 20
        }
      ]
    },
    {
      "cell_type": "code",
      "source": [
        "ngc188_table['dec']"
      ],
      "metadata": {
        "colab": {
          "base_uri": "https://localhost:8080/",
          "height": 37
        },
        "id": "7c759eY-DR2T",
        "outputId": "e41e5b19-a607-4fa2-bc68-147010edc462"
      },
      "execution_count": null,
      "outputs": [
        {
          "output_type": "execute_result",
          "data": {
            "text/plain": [
              "<Quantity [85.2436267 , 85.24193176, 85.24714789, ..., 84.81444405,\n",
              "           85.08002617, 84.91080112] deg>"
            ],
            "text/latex": "$[85.243627,~85.241932,~85.247148,~\\dots,~84.814444,~85.080026,~84.910801] \\; \\mathrm{{}^{\\circ}}$"
          },
          "metadata": {},
          "execution_count": 21
        }
      ]
    },
    {
      "cell_type": "code",
      "source": [
        "ngc188_gaia_coords = SkyCoord(ngc188_table['ra'], ngc188_table['dec'])\n",
        "ngc188_gaia_coords"
      ],
      "metadata": {
        "colab": {
          "base_uri": "https://localhost:8080/"
        },
        "id": "9I1z6-N_DTqH",
        "outputId": "9e37f435-8861-450f-cada-85f24dcca12e"
      },
      "execution_count": null,
      "outputs": [
        {
          "output_type": "execute_result",
          "data": {
            "text/plain": [
              "<SkyCoord (ICRS): (ra, dec) in deg\n",
              "    [(11.83026182, 85.2436267 ), (11.77583526, 85.24193176),\n",
              "     (11.78143428, 85.24714789), ..., ( 9.00733176, 84.81444405),\n",
              "     ( 6.28374403, 85.08002617), (16.03700724, 84.91080112)]>"
            ]
          },
          "metadata": {},
          "execution_count": 22
        }
      ]
    },
    {
      "cell_type": "markdown",
      "source": [
        "# Excercises"
      ],
      "metadata": {
        "id": "EgLlST07DoBk"
      }
    },
    {
      "cell_type": "code",
      "source": [
        "ngc188_center = SkyCoord.from_name('NGC 188')"
      ],
      "metadata": {
        "id": "A1qq1-udDV7L"
      },
      "execution_count": null,
      "outputs": []
    },
    {
      "cell_type": "code",
      "source": [
        "ngc188_center.to_string(style=\"hmsdms\", sep=\":\", precision=1)"
      ],
      "metadata": {
        "colab": {
          "base_uri": "https://localhost:8080/",
          "height": 35
        },
        "id": "udppgIaSDr7U",
        "outputId": "cd2a67f9-5e33-4674-e686-032f3ff65734"
      },
      "execution_count": null,
      "outputs": [
        {
          "output_type": "execute_result",
          "data": {
            "text/plain": [
              "'00:47:11.5 +85:14:38.4'"
            ],
            "application/vnd.google.colaboratory.intrinsic+json": {
              "type": "string"
            }
          },
          "metadata": {},
          "execution_count": 24
        }
      ]
    },
    {
      "cell_type": "code",
      "source": [
        "ngc188_gaia_coords.separation(ngc188_center)"
      ],
      "metadata": {
        "colab": {
          "base_uri": "https://localhost:8080/",
          "height": 121
        },
        "id": "Q5Gsj1JcDtr7",
        "outputId": "5e778125-1336-453f-bebf-39d2fa699e86"
      },
      "execution_count": null,
      "outputs": [
        {
          "output_type": "execute_result",
          "data": {
            "text/plain": [
              "<Angle [0.00270094, 0.00276701, 0.00343431, ..., 0.49281595, 0.49289387,\n",
              "        0.49307575] deg>"
            ],
            "text/latex": "[$0^\\circ00{}^\\prime09.72337022{}^{\\prime\\prime}$\n $0^\\circ00{}^\\prime09.96124285{}^{\\prime\\prime}$\n $0^\\circ00{}^\\prime12.36352621{}^{\\prime\\prime}$ ...\n $0^\\circ29{}^\\prime34.13742453{}^{\\prime\\prime}$\n $0^\\circ29{}^\\prime34.41793609{}^{\\prime\\prime}$\n $0^\\circ29{}^\\prime35.07269363{}^{\\prime\\prime}$]"
          },
          "metadata": {},
          "execution_count": 25
        }
      ]
    },
    {
      "cell_type": "markdown",
      "source": [
        "# More Than Just Sky Positions: Including Distance Information in SkyCoord"
      ],
      "metadata": {
        "id": "NQjoWIH-DxrF"
      }
    },
    {
      "cell_type": "code",
      "source": [
        "ngc188_center_3d = SkyCoord(12.11*u.deg, 85.26*u.deg,\n",
        "                            distance=1.96*u.kpc)"
      ],
      "metadata": {
        "id": "OzrYccQ9DveP"
      },
      "execution_count": null,
      "outputs": []
    },
    {
      "cell_type": "code",
      "source": [
        "parallax_snr = ngc188_table['parallax'] / ngc188_table['parallax_error']\n",
        "ngc188_table_3d = ngc188_table[parallax_snr > 10] \n",
        "len(ngc188_table_3d)"
      ],
      "metadata": {
        "colab": {
          "base_uri": "https://localhost:8080/"
        },
        "id": "UQG6EJYnD2NC",
        "outputId": "34dfa78f-e5b0-4606-bae0-50cfa889bbd1"
      },
      "execution_count": null,
      "outputs": [
        {
          "output_type": "execute_result",
          "data": {
            "text/plain": [
              "2045"
            ]
          },
          "metadata": {},
          "execution_count": 27
        }
      ]
    },
    {
      "cell_type": "code",
      "source": [
        "Distance(parallax=1*u.mas)"
      ],
      "metadata": {
        "colab": {
          "base_uri": "https://localhost:8080/",
          "height": 37
        },
        "id": "6H0d7PkJD39n",
        "outputId": "fc857e0c-3428-4653-fd8a-975a4a06f9eb"
      },
      "execution_count": null,
      "outputs": [
        {
          "output_type": "execute_result",
          "data": {
            "text/plain": [
              "<Distance 1000. pc>"
            ],
            "text/latex": "$1000 \\; \\mathrm{pc}$"
          },
          "metadata": {},
          "execution_count": 28
        }
      ]
    },
    {
      "cell_type": "code",
      "source": [
        "from astropy import units as u\n",
        "u.quantity_input\n",
        "def my_function(M: u.g):\n",
        "  print(M)"
      ],
      "metadata": {
        "id": "o8Z0hD2FEGJi"
      },
      "execution_count": 1,
      "outputs": []
    },
    {
      "cell_type": "code",
      "source": [
        ""
      ],
      "metadata": {
        "id": "9i-jhXB_E_Ki"
      },
      "execution_count": null,
      "outputs": []
    }
  ]
}