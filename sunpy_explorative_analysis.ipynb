{
  "nbformat": 4,
  "nbformat_minor": 0,
  "metadata": {
    "colab": {
      "name": "sunpy_explorative_analysis.ipynb",
      "provenance": [],
      "authorship_tag": "ABX9TyO2P8rlzVRGXEh4wNdHb9dj",
      "include_colab_link": true
    },
    "kernelspec": {
      "name": "python3",
      "display_name": "Python 3"
    },
    "language_info": {
      "name": "python"
    }
  },
  "cells": [
    {
      "cell_type": "markdown",
      "metadata": {
        "id": "view-in-github",
        "colab_type": "text"
      },
      "source": [
        "<a href=\"https://colab.research.google.com/github/Dasika-Vaishnavi/Open-Astonomy-proposal/blob/main/sunpy_explorative_analysis.ipynb\" target=\"_parent\"><img src=\"https://colab.research.google.com/assets/colab-badge.svg\" alt=\"Open In Colab\"/></a>"
      ]
    },
    {
      "cell_type": "code",
      "execution_count": 1,
      "metadata": {
        "colab": {
          "base_uri": "https://localhost:8080/"
        },
        "id": "8CoGsyP3-j4b",
        "outputId": "2fb64d93-4d7a-49f6-cf65-3a59b23c6c32"
      },
      "outputs": [
        {
          "output_type": "stream",
          "name": "stdout",
          "text": [
            "Collecting sunpy\n",
            "  Downloading sunpy-3.1.6-cp37-cp37m-manylinux_2_17_x86_64.manylinux2014_x86_64.whl (6.0 MB)\n",
            "\u001b[K     |████████████████████████████████| 6.0 MB 4.7 MB/s \n",
            "\u001b[?25hRequirement already satisfied: packaging>=19.0 in /usr/local/lib/python3.7/dist-packages (from sunpy) (21.3)\n",
            "Requirement already satisfied: astropy>=4.2.0 in /usr/local/lib/python3.7/dist-packages (from sunpy) (4.3.1)\n",
            "Requirement already satisfied: numpy>=1.17.0 in /usr/local/lib/python3.7/dist-packages (from sunpy) (1.21.5)\n",
            "Collecting parfive[ftp]>=1.2.0\n",
            "  Downloading parfive-1.5.1-py3-none-any.whl (19 kB)\n",
            "Requirement already satisfied: pyerfa>=1.7.3 in /usr/local/lib/python3.7/dist-packages (from astropy>=4.2.0->sunpy) (2.0.0.1)\n",
            "Requirement already satisfied: importlib-metadata in /usr/local/lib/python3.7/dist-packages (from astropy>=4.2.0->sunpy) (4.11.3)\n",
            "Requirement already satisfied: pyparsing!=3.0.5,>=2.0.2 in /usr/local/lib/python3.7/dist-packages (from packaging>=19.0->sunpy) (3.0.8)\n",
            "Collecting aiohttp\n",
            "  Downloading aiohttp-3.8.1-cp37-cp37m-manylinux_2_5_x86_64.manylinux1_x86_64.manylinux_2_12_x86_64.manylinux2010_x86_64.whl (1.1 MB)\n",
            "\u001b[K     |████████████████████████████████| 1.1 MB 52.0 MB/s \n",
            "\u001b[?25hRequirement already satisfied: tqdm in /usr/local/lib/python3.7/dist-packages (from parfive[ftp]>=1.2.0->sunpy) (4.64.0)\n",
            "Collecting aioftp>=0.17.1\n",
            "  Downloading aioftp-0.21.0-py3-none-any.whl (37 kB)\n",
            "Requirement already satisfied: typing-extensions>=3.7.4 in /usr/local/lib/python3.7/dist-packages (from aiohttp->parfive[ftp]>=1.2.0->sunpy) (4.1.1)\n",
            "Collecting async-timeout<5.0,>=4.0.0a3\n",
            "  Downloading async_timeout-4.0.2-py3-none-any.whl (5.8 kB)\n",
            "Collecting yarl<2.0,>=1.0\n",
            "  Downloading yarl-1.7.2-cp37-cp37m-manylinux_2_5_x86_64.manylinux1_x86_64.manylinux_2_12_x86_64.manylinux2010_x86_64.whl (271 kB)\n",
            "\u001b[K     |████████████████████████████████| 271 kB 57.6 MB/s \n",
            "\u001b[?25hCollecting multidict<7.0,>=4.5\n",
            "  Downloading multidict-6.0.2-cp37-cp37m-manylinux_2_17_x86_64.manylinux2014_x86_64.whl (94 kB)\n",
            "\u001b[K     |████████████████████████████████| 94 kB 3.5 MB/s \n",
            "\u001b[?25hRequirement already satisfied: charset-normalizer<3.0,>=2.0 in /usr/local/lib/python3.7/dist-packages (from aiohttp->parfive[ftp]>=1.2.0->sunpy) (2.0.12)\n",
            "Collecting asynctest==0.13.0\n",
            "  Downloading asynctest-0.13.0-py3-none-any.whl (26 kB)\n",
            "Collecting frozenlist>=1.1.1\n",
            "  Downloading frozenlist-1.3.0-cp37-cp37m-manylinux_2_5_x86_64.manylinux1_x86_64.manylinux_2_17_x86_64.manylinux2014_x86_64.whl (144 kB)\n",
            "\u001b[K     |████████████████████████████████| 144 kB 74.2 MB/s \n",
            "\u001b[?25hCollecting aiosignal>=1.1.2\n",
            "  Downloading aiosignal-1.2.0-py3-none-any.whl (8.2 kB)\n",
            "Requirement already satisfied: attrs>=17.3.0 in /usr/local/lib/python3.7/dist-packages (from aiohttp->parfive[ftp]>=1.2.0->sunpy) (21.4.0)\n",
            "Requirement already satisfied: idna>=2.0 in /usr/local/lib/python3.7/dist-packages (from yarl<2.0,>=1.0->aiohttp->parfive[ftp]>=1.2.0->sunpy) (2.10)\n",
            "Requirement already satisfied: zipp>=0.5 in /usr/local/lib/python3.7/dist-packages (from importlib-metadata->astropy>=4.2.0->sunpy) (3.8.0)\n",
            "Installing collected packages: multidict, frozenlist, yarl, asynctest, async-timeout, aiosignal, aiohttp, parfive, aioftp, sunpy\n",
            "Successfully installed aioftp-0.21.0 aiohttp-3.8.1 aiosignal-1.2.0 async-timeout-4.0.2 asynctest-0.13.0 frozenlist-1.3.0 multidict-6.0.2 parfive-1.5.1 sunpy-3.1.6 yarl-1.7.2\n"
          ]
        }
      ],
      "source": [
        "!pip install sunpy"
      ]
    },
    {
      "cell_type": "code",
      "source": [
        "!pip install \"sunpy[all]\""
      ],
      "metadata": {
        "colab": {
          "base_uri": "https://localhost:8080/"
        },
        "id": "tURJFHid_Y7v",
        "outputId": "c3329b90-f9cf-4834-d494-57da1eeb79ac"
      },
      "execution_count": 2,
      "outputs": [
        {
          "output_type": "stream",
          "name": "stdout",
          "text": [
            "Requirement already satisfied: sunpy[all] in /usr/local/lib/python3.7/dist-packages (3.1.6)\n",
            "Requirement already satisfied: parfive[ftp]>=1.2.0 in /usr/local/lib/python3.7/dist-packages (from sunpy[all]) (1.5.1)\n",
            "Requirement already satisfied: numpy>=1.17.0 in /usr/local/lib/python3.7/dist-packages (from sunpy[all]) (1.21.5)\n",
            "Requirement already satisfied: astropy>=4.2.0 in /usr/local/lib/python3.7/dist-packages (from sunpy[all]) (4.3.1)\n",
            "Requirement already satisfied: packaging>=19.0 in /usr/local/lib/python3.7/dist-packages (from sunpy[all]) (21.3)\n",
            "Collecting glymur!=0.9.0,!=0.9.5,>=0.8.18\n",
            "  Downloading Glymur-0.9.9-py3-none-any.whl (2.8 MB)\n",
            "\u001b[K     |████████████████████████████████| 2.8 MB 5.1 MB/s \n",
            "\u001b[?25hRequirement already satisfied: h5py>=3.1.0 in /usr/local/lib/python3.7/dist-packages (from sunpy[all]) (3.1.0)\n",
            "Collecting drms>=0.6.1\n",
            "  Downloading drms-0.6.2-py3-none-any.whl (35 kB)\n",
            "Requirement already satisfied: tqdm>=4.32.1 in /usr/local/lib/python3.7/dist-packages (from sunpy[all]) (4.64.0)\n",
            "Collecting zeep>=3.4.0\n",
            "  Downloading zeep-4.1.0-py2.py3-none-any.whl (100 kB)\n",
            "\u001b[K     |████████████████████████████████| 100 kB 9.9 MB/s \n",
            "\u001b[?25hRequirement already satisfied: scipy>=1.3.0 in /usr/local/lib/python3.7/dist-packages (from sunpy[all]) (1.4.1)\n",
            "Collecting asdf>=2.6.0\n",
            "  Downloading asdf-2.11.1-py3-none-any.whl (401 kB)\n",
            "\u001b[K     |████████████████████████████████| 401 kB 66.5 MB/s \n",
            "\u001b[?25hRequirement already satisfied: scikit-image<0.19,>=0.16.0 in /usr/local/lib/python3.7/dist-packages (from sunpy[all]) (0.18.3)\n",
            "Collecting reproject\n",
            "  Downloading reproject-0.8-cp37-cp37m-manylinux_2_5_x86_64.manylinux1_x86_64.manylinux_2_12_x86_64.manylinux2010_x86_64.whl (1.3 MB)\n",
            "\u001b[K     |████████████████████████████████| 1.3 MB 55.4 MB/s \n",
            "\u001b[?25hRequirement already satisfied: matplotlib>=3.2.0 in /usr/local/lib/python3.7/dist-packages (from sunpy[all]) (3.2.2)\n",
            "Requirement already satisfied: sqlalchemy>=1.3.4 in /usr/local/lib/python3.7/dist-packages (from sunpy[all]) (1.4.35)\n",
            "Requirement already satisfied: pandas>=1.0.0 in /usr/local/lib/python3.7/dist-packages (from sunpy[all]) (1.3.5)\n",
            "Collecting h5netcdf>=0.8.1\n",
            "  Downloading h5netcdf-1.0.0-py2.py3-none-any.whl (24 kB)\n",
            "Collecting mpl-animators>=1.0.0\n",
            "  Downloading mpl_animators-1.0.1-py3-none-any.whl (31 kB)\n",
            "Collecting beautifulsoup4>=4.8.0\n",
            "  Downloading beautifulsoup4-4.11.1-py3-none-any.whl (128 kB)\n",
            "\u001b[K     |████████████████████████████████| 128 kB 57.0 MB/s \n",
            "\u001b[?25hCollecting cdflib!=0.4.0,>=0.3.19\n",
            "  Downloading cdflib-0.4.4.tar.gz (83 kB)\n",
            "\u001b[K     |████████████████████████████████| 83 kB 2.0 MB/s \n",
            "\u001b[?25h  Installing build dependencies ... \u001b[?25l\u001b[?25hdone\n",
            "  Getting requirements to build wheel ... \u001b[?25l\u001b[?25hdone\n",
            "    Preparing wheel metadata ... \u001b[?25l\u001b[?25hdone\n",
            "Requirement already satisfied: python-dateutil>=2.8.0 in /usr/local/lib/python3.7/dist-packages (from sunpy[all]) (2.8.2)\n",
            "Requirement already satisfied: dask[array]>=2.0.0 in /usr/local/lib/python3.7/dist-packages (from sunpy[all]) (2.12.0)\n",
            "Collecting semantic-version>=2.8\n",
            "  Downloading semantic_version-2.9.0-py2.py3-none-any.whl (15 kB)\n",
            "Requirement already satisfied: importlib-resources>=3 in /usr/local/lib/python3.7/dist-packages (from asdf>=2.6.0->sunpy[all]) (5.6.0)\n",
            "Collecting asdf-transform-schemas>=0.2.2\n",
            "  Downloading asdf_transform_schemas-0.2.2-py3-none-any.whl (191 kB)\n",
            "\u001b[K     |████████████████████████████████| 191 kB 55.3 MB/s \n",
            "\u001b[?25hRequirement already satisfied: jsonschema>=4.0.1 in /usr/local/lib/python3.7/dist-packages (from asdf>=2.6.0->sunpy[all]) (4.3.3)\n",
            "Requirement already satisfied: pyyaml>=3.10 in /usr/local/lib/python3.7/dist-packages (from asdf>=2.6.0->sunpy[all]) (3.13)\n",
            "Collecting asdf-standard>=1.0.1\n",
            "  Downloading asdf_standard-1.0.1-py3-none-any.whl (68 kB)\n",
            "\u001b[K     |████████████████████████████████| 68 kB 7.4 MB/s \n",
            "\u001b[?25hRequirement already satisfied: six in /usr/local/lib/python3.7/dist-packages (from asdf>=2.6.0->sunpy[all]) (1.15.0)\n",
            "Collecting jmespath>=0.6.2\n",
            "  Downloading jmespath-1.0.0-py3-none-any.whl (23 kB)\n",
            "Requirement already satisfied: importlib-metadata in /usr/local/lib/python3.7/dist-packages (from astropy>=4.2.0->sunpy[all]) (4.11.3)\n",
            "Requirement already satisfied: pyerfa>=1.7.3 in /usr/local/lib/python3.7/dist-packages (from astropy>=4.2.0->sunpy[all]) (2.0.0.1)\n",
            "Requirement already satisfied: soupsieve>1.2 in /usr/local/lib/python3.7/dist-packages (from beautifulsoup4>=4.8.0->sunpy[all]) (2.3.2)\n",
            "Requirement already satisfied: attrs>=19.2.0 in /usr/local/lib/python3.7/dist-packages (from cdflib!=0.4.0,>=0.3.19->sunpy[all]) (21.4.0)\n",
            "Requirement already satisfied: toolz>=0.7.3 in /usr/local/lib/python3.7/dist-packages (from dask[array]>=2.0.0->sunpy[all]) (0.11.2)\n",
            "Requirement already satisfied: lxml in /usr/local/lib/python3.7/dist-packages (from glymur!=0.9.0,!=0.9.5,>=0.8.18->sunpy[all]) (4.2.6)\n",
            "Requirement already satisfied: setuptools in /usr/local/lib/python3.7/dist-packages (from glymur!=0.9.0,!=0.9.5,>=0.8.18->sunpy[all]) (57.4.0)\n",
            "Requirement already satisfied: cached-property in /usr/local/lib/python3.7/dist-packages (from h5py>=3.1.0->sunpy[all]) (1.5.2)\n",
            "Requirement already satisfied: zipp>=3.1.0 in /usr/local/lib/python3.7/dist-packages (from importlib-resources>=3->asdf>=2.6.0->sunpy[all]) (3.8.0)\n",
            "Requirement already satisfied: pyrsistent!=0.17.0,!=0.17.1,!=0.17.2,>=0.14.0 in /usr/local/lib/python3.7/dist-packages (from jsonschema>=4.0.1->asdf>=2.6.0->sunpy[all]) (0.18.1)\n",
            "Requirement already satisfied: typing-extensions in /usr/local/lib/python3.7/dist-packages (from jsonschema>=4.0.1->asdf>=2.6.0->sunpy[all]) (4.1.1)\n",
            "Requirement already satisfied: pyparsing!=2.0.4,!=2.1.2,!=2.1.6,>=2.0.1 in /usr/local/lib/python3.7/dist-packages (from matplotlib>=3.2.0->sunpy[all]) (3.0.8)\n",
            "Requirement already satisfied: cycler>=0.10 in /usr/local/lib/python3.7/dist-packages (from matplotlib>=3.2.0->sunpy[all]) (0.11.0)\n",
            "Requirement already satisfied: kiwisolver>=1.0.1 in /usr/local/lib/python3.7/dist-packages (from matplotlib>=3.2.0->sunpy[all]) (1.4.2)\n",
            "Requirement already satisfied: pytz>=2017.3 in /usr/local/lib/python3.7/dist-packages (from pandas>=1.0.0->sunpy[all]) (2018.9)\n",
            "Requirement already satisfied: aiohttp in /usr/local/lib/python3.7/dist-packages (from parfive[ftp]>=1.2.0->sunpy[all]) (3.8.1)\n",
            "Requirement already satisfied: aioftp>=0.17.1 in /usr/local/lib/python3.7/dist-packages (from parfive[ftp]>=1.2.0->sunpy[all]) (0.21.0)\n",
            "Requirement already satisfied: networkx>=2.0 in /usr/local/lib/python3.7/dist-packages (from scikit-image<0.19,>=0.16.0->sunpy[all]) (2.6.3)\n",
            "Requirement already satisfied: tifffile>=2019.7.26 in /usr/local/lib/python3.7/dist-packages (from scikit-image<0.19,>=0.16.0->sunpy[all]) (2021.11.2)\n",
            "Requirement already satisfied: PyWavelets>=1.1.1 in /usr/local/lib/python3.7/dist-packages (from scikit-image<0.19,>=0.16.0->sunpy[all]) (1.3.0)\n",
            "Requirement already satisfied: imageio>=2.3.0 in /usr/local/lib/python3.7/dist-packages (from scikit-image<0.19,>=0.16.0->sunpy[all]) (2.4.1)\n",
            "Requirement already satisfied: pillow!=7.1.0,!=7.1.1,>=4.3.0 in /usr/local/lib/python3.7/dist-packages (from scikit-image<0.19,>=0.16.0->sunpy[all]) (7.1.2)\n",
            "Requirement already satisfied: greenlet!=0.4.17 in /usr/local/lib/python3.7/dist-packages (from sqlalchemy>=1.3.4->sunpy[all]) (1.1.2)\n",
            "Collecting requests-file>=1.5.1\n",
            "  Downloading requests_file-1.5.1-py2.py3-none-any.whl (3.7 kB)\n",
            "Collecting platformdirs>=1.4.0\n",
            "  Downloading platformdirs-2.5.2-py3-none-any.whl (14 kB)\n",
            "Collecting isodate>=0.5.4\n",
            "  Downloading isodate-0.6.1-py2.py3-none-any.whl (41 kB)\n",
            "\u001b[K     |████████████████████████████████| 41 kB 655 kB/s \n",
            "\u001b[?25hCollecting requests-toolbelt>=0.7.1\n",
            "  Downloading requests_toolbelt-0.9.1-py2.py3-none-any.whl (54 kB)\n",
            "\u001b[K     |████████████████████████████████| 54 kB 2.8 MB/s \n",
            "\u001b[?25hCollecting lxml\n",
            "  Downloading lxml-4.8.0-cp37-cp37m-manylinux_2_17_x86_64.manylinux2014_x86_64.manylinux_2_24_x86_64.whl (6.4 MB)\n",
            "\u001b[K     |████████████████████████████████| 6.4 MB 48.4 MB/s \n",
            "\u001b[?25hRequirement already satisfied: requests>=2.7.0 in /usr/local/lib/python3.7/dist-packages (from zeep>=3.4.0->sunpy[all]) (2.23.0)\n",
            "Requirement already satisfied: idna<3,>=2.5 in /usr/local/lib/python3.7/dist-packages (from requests>=2.7.0->zeep>=3.4.0->sunpy[all]) (2.10)\n",
            "Requirement already satisfied: urllib3!=1.25.0,!=1.25.1,<1.26,>=1.21.1 in /usr/local/lib/python3.7/dist-packages (from requests>=2.7.0->zeep>=3.4.0->sunpy[all]) (1.24.3)\n",
            "Requirement already satisfied: certifi>=2017.4.17 in /usr/local/lib/python3.7/dist-packages (from requests>=2.7.0->zeep>=3.4.0->sunpy[all]) (2021.10.8)\n",
            "Requirement already satisfied: chardet<4,>=3.0.2 in /usr/local/lib/python3.7/dist-packages (from requests>=2.7.0->zeep>=3.4.0->sunpy[all]) (3.0.4)\n",
            "Requirement already satisfied: frozenlist>=1.1.1 in /usr/local/lib/python3.7/dist-packages (from aiohttp->parfive[ftp]>=1.2.0->sunpy[all]) (1.3.0)\n",
            "Requirement already satisfied: multidict<7.0,>=4.5 in /usr/local/lib/python3.7/dist-packages (from aiohttp->parfive[ftp]>=1.2.0->sunpy[all]) (6.0.2)\n",
            "Requirement already satisfied: asynctest==0.13.0 in /usr/local/lib/python3.7/dist-packages (from aiohttp->parfive[ftp]>=1.2.0->sunpy[all]) (0.13.0)\n",
            "Requirement already satisfied: aiosignal>=1.1.2 in /usr/local/lib/python3.7/dist-packages (from aiohttp->parfive[ftp]>=1.2.0->sunpy[all]) (1.2.0)\n",
            "Requirement already satisfied: charset-normalizer<3.0,>=2.0 in /usr/local/lib/python3.7/dist-packages (from aiohttp->parfive[ftp]>=1.2.0->sunpy[all]) (2.0.12)\n",
            "Requirement already satisfied: yarl<2.0,>=1.0 in /usr/local/lib/python3.7/dist-packages (from aiohttp->parfive[ftp]>=1.2.0->sunpy[all]) (1.7.2)\n",
            "Requirement already satisfied: async-timeout<5.0,>=4.0.0a3 in /usr/local/lib/python3.7/dist-packages (from aiohttp->parfive[ftp]>=1.2.0->sunpy[all]) (4.0.2)\n",
            "Collecting astropy-healpix>=0.6\n",
            "  Downloading astropy_healpix-0.6-cp37-cp37m-manylinux2010_x86_64.whl (208 kB)\n",
            "\u001b[K     |████████████████████████████████| 208 kB 61.8 MB/s \n",
            "\u001b[?25hBuilding wheels for collected packages: cdflib\n",
            "  Building wheel for cdflib (PEP 517) ... \u001b[?25l\u001b[?25hdone\n",
            "  Created wheel for cdflib: filename=cdflib-0.4.4-py3-none-any.whl size=79239 sha256=0c336c93f1ad497198308823e860ecdcd84e99b5b67b9cc1047b2505bd17ccd0\n",
            "  Stored in directory: /root/.cache/pip/wheels/58/1f/02/5567c76a728aeb17cb09350093fbc70787014ca1740f50e862\n",
            "Successfully built cdflib\n",
            "Installing collected packages: asdf-standard, semantic-version, requests-toolbelt, requests-file, platformdirs, lxml, jmespath, isodate, astropy-healpix, asdf-transform-schemas, zeep, reproject, mpl-animators, h5netcdf, glymur, drms, cdflib, beautifulsoup4, asdf\n",
            "  Attempting uninstall: lxml\n",
            "    Found existing installation: lxml 4.2.6\n",
            "    Uninstalling lxml-4.2.6:\n",
            "      Successfully uninstalled lxml-4.2.6\n",
            "  Attempting uninstall: beautifulsoup4\n",
            "    Found existing installation: beautifulsoup4 4.6.3\n",
            "    Uninstalling beautifulsoup4-4.6.3:\n",
            "      Successfully uninstalled beautifulsoup4-4.6.3\n",
            "Successfully installed asdf-2.11.1 asdf-standard-1.0.1 asdf-transform-schemas-0.2.2 astropy-healpix-0.6 beautifulsoup4-4.11.1 cdflib-0.4.4 drms-0.6.2 glymur-0.9.9 h5netcdf-1.0.0 isodate-0.6.1 jmespath-1.0.0 lxml-4.8.0 mpl-animators-1.0.1 platformdirs-2.5.2 reproject-0.8 requests-file-1.5.1 requests-toolbelt-0.9.1 semantic-version-2.9.0 zeep-4.1.0\n"
          ]
        }
      ]
    },
    {
      "cell_type": "markdown",
      "source": [
        "# Testing sunpy"
      ],
      "metadata": {
        "id": "2_qNajdq_6DY"
      }
    },
    {
      "cell_type": "code",
      "source": [
        "import sunpy\n",
        "sunpy.self_test()"
      ],
      "metadata": {
        "colab": {
          "base_uri": "https://localhost:8080/"
        },
        "id": "XuNERGt3_rRr",
        "outputId": "8a0b6aaf-4bec-4492-aa3f-ecc2e860a4d6"
      },
      "execution_count": 3,
      "outputs": [
        {
          "output_type": "stream",
          "name": "stdout",
          "text": [
            "\n",
            "\n",
            "\n",
            "Starting sunpy self test...\n",
            "Checking for packages needed to run sunpy:\n",
            "The following packages are not installed for the sunpy[jpeg2000] requirement:\n",
            "  * glymur\n",
            "The following packages are not installed for the sunpy[map] requirement:\n",
            "  * mpl-animators\n",
            "  * reproject\n",
            "The following packages are not installed for the sunpy[net] requirement:\n",
            "  * zeep\n",
            "  * drms\n",
            "  * beautifulsoup4\n",
            "The following packages are not installed for the sunpy[timeseries] requirement:\n",
            "  * cdflib\n",
            "  * h5netcdf\n",
            "The following packages are not installed for the sunpy[visualization] requirement:\n",
            "  * mpl-animators\n",
            "You do not have all the required dependencies installed to run the sunpy test suite.\n",
            "['hypothesis', 'pytest-mock', 'pytest-xdist', 'pytest-mpl', 'jplephem', 'pytest', 'pytest-astropy', 'pytest-doctestplus']\n",
            "If are using conda, you will want to run `conda install <package name>`\n",
            "Otherwise you will want run `pip install \"sunpy[all,tests]\"`\n"
          ]
        }
      ]
    }
  ]
}